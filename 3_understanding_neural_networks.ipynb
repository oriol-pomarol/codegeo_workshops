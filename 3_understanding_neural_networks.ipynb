{
  "cells": [
    {
      "cell_type": "markdown",
      "metadata": {
        "id": "view-in-github",
        "colab_type": "text"
      },
      "source": [
        "<a href=\"https://colab.research.google.com/github/oriol-pomarol/codegeo_workshops/blob/main/3_understanding_neural_networks.ipynb\" target=\"_parent\"><img src=\"https://colab.research.google.com/assets/colab-badge.svg\" alt=\"Open In Colab\"/></a>"
      ]
    },
    {
      "cell_type": "markdown",
      "metadata": {
        "id": "UDe5BIX-x_lY"
      },
      "source": [
        "# 3. How do they work? - understanding Neural Networks\n",
        "\n",
        "In the previous workshop, we built a Random Forest model. Today we will delve into a more complex machine learning approach: deep learning models, specifically Neural Networks. Neural Networks consist of three primary layers: the input layer, hidden layers (one or more), and the output layer.\n",
        "\n",
        "There are various types of Neural Networks with distinct structures, including Convolutional Neural Networks (CNN) for image recognition, Long Short-Term Memory networks (LSTM) for sequence data and Multilayer perceptrons for general tasks. We are going to focus on the latter, as it is the simplest and most general and serves as a good base for the rest."
      ]
    },
    {
      "cell_type": "markdown",
      "metadata": {
        "id": "uYlZYZG3yyUM"
      },
      "source": [
        "## 3.1 Problem definition"
      ]
    },
    {
      "cell_type": "markdown",
      "metadata": {
        "id": "qbjbsGvey7Kn"
      },
      "source": [
        "We use the same dataset as in the previous workshop, in which we want to predict the water level at the Hagestein station using a selection of five meteorological and hydrological variables: the discharge of the Rhine and Meuse at the Dutch border, the water level of the North Sea, precipitation and evaporation.\n",
        "\n",
        "**Dataset**: We have daily measurements of the described variables spanning from 1981 to 2019. For more information about the data sources, we encourage you to check [Hauswirth et al. (2021)](https://doi.org/10.1016/j.advwatres.2021.104017).\n",
        "\n",
        "![picture](https://drive.google.com/uc?export=view&id=1gLk7NO1tvM9cLj-JMgG8eEaNXHw_DWVl)\n",
        "\n",
        "*Door Rijksdienst voor het Cultureel Erfgoed, CC BY-SA 4.0, https[]()://commons.wikimedia.org/w/index.php?curid=24032939*"
      ]
    },
    {
      "cell_type": "markdown",
      "metadata": {
        "id": "24D0xvRYz1ck"
      },
      "source": [
        "### Import data and libraries"
      ]
    },
    {
      "cell_type": "code",
      "execution_count": 1,
      "metadata": {
        "id": "YTc3zx9jz82E"
      },
      "outputs": [],
      "source": [
        "import pandas as pd\n",
        "import numpy as np\n",
        "import matplotlib.pyplot as plt\n",
        "\n",
        "# Load the data\n",
        "data_url =  \"https://raw.githubusercontent.com/Jignesh1594/CodeGeoworkshop_02_understanding_RF/master/data.csv\"\n",
        "data = pd.read_csv(data_url, delimiter=\",\", on_bad_lines='skip')\n",
        "input_data = data[['WLHv', 'RH', 'EV24', 'QMeuse', 'QRhine']]\n",
        "output_data = data[['value']]"
      ]
    },
    {
      "cell_type": "markdown",
      "metadata": {
        "id": "Eb95409h1kyu"
      },
      "source": [
        "### Split the data into train and test dataset\n"
      ]
    },
    {
      "cell_type": "code",
      "execution_count": 2,
      "metadata": {
        "id": "Y3an8sC41znT"
      },
      "outputs": [],
      "source": [
        "from sklearn.model_selection import train_test_split\n",
        "\n",
        "X_train, X_test, y_train, y_test = train_test_split(input_data, output_data, test_size=0.1, shuffle=False)"
      ]
    },
    {
      "cell_type": "markdown",
      "metadata": {
        "id": "EizqwRXc-zl6"
      },
      "source": [
        "## 3.2 A simple case scenario - shallow networks"
      ]
    },
    {
      "cell_type": "markdown",
      "metadata": {
        "id": "If9Kr1GM_Hq1"
      },
      "source": [
        "### Predicting with NNs: neuron activation"
      ]
    },
    {
      "cell_type": "markdown",
      "metadata": {
        "id": "dLn7Tr0JOeV4"
      },
      "source": [
        "To simplify the model training, we will use a subset of our training data, taking only two input variables, the discharge from the Meuse and Rhine respectively, and only the first 1000 observations."
      ]
    },
    {
      "cell_type": "code",
      "execution_count": 3,
      "metadata": {
        "id": "P6vjUONOOeV5"
      },
      "outputs": [],
      "source": [
        "# Subset data to 2 columns\n",
        "X_train_subset = X_train.iloc[:1000, -2:]\n",
        "X_test_subset = X_test.iloc[:1000, -2:]\n",
        "\n",
        "y_train_subset = y_train.iloc[:1000, :]\n",
        "y_test_subset = y_test.iloc[:1000, :]"
      ]
    },
    {
      "cell_type": "markdown",
      "metadata": {
        "id": "U96haSTgOeV5"
      },
      "source": [
        "To start, we will train a small, shallow neural network of only one hidden layer with three units in it, so we can easily see what is going on. Lets train it on our subset data and see the shape of our weights."
      ]
    },
    {
      "cell_type": "code",
      "execution_count": 4,
      "metadata": {
        "id": "9q2qNWTJ_WRy",
        "colab": {
          "base_uri": "https://localhost:8080/",
          "height": 179
        },
        "outputId": "0beec4ee-b80b-464e-b22f-52c958df9e18"
      },
      "outputs": [
        {
          "output_type": "stream",
          "name": "stderr",
          "text": [
            "/usr/local/lib/python3.10/dist-packages/sklearn/neural_network/_multilayer_perceptron.py:686: ConvergenceWarning: Stochastic Optimizer: Maximum iterations (1000) reached and the optimization hasn't converged yet.\n",
            "  warnings.warn(\n"
          ]
        },
        {
          "output_type": "execute_result",
          "data": {
            "text/plain": [
              "      Weights Shape Biases Shape\n",
              "Layer                           \n",
              "1            (2, 3)         (3,)\n",
              "2            (3, 1)         (1,)"
            ],
            "text/html": [
              "\n",
              "  <div id=\"df-530f8e4f-ddc8-4521-a094-6235a0c5673f\" class=\"colab-df-container\">\n",
              "    <div>\n",
              "<style scoped>\n",
              "    .dataframe tbody tr th:only-of-type {\n",
              "        vertical-align: middle;\n",
              "    }\n",
              "\n",
              "    .dataframe tbody tr th {\n",
              "        vertical-align: top;\n",
              "    }\n",
              "\n",
              "    .dataframe thead th {\n",
              "        text-align: right;\n",
              "    }\n",
              "</style>\n",
              "<table border=\"1\" class=\"dataframe\">\n",
              "  <thead>\n",
              "    <tr style=\"text-align: right;\">\n",
              "      <th></th>\n",
              "      <th>Weights Shape</th>\n",
              "      <th>Biases Shape</th>\n",
              "    </tr>\n",
              "    <tr>\n",
              "      <th>Layer</th>\n",
              "      <th></th>\n",
              "      <th></th>\n",
              "    </tr>\n",
              "  </thead>\n",
              "  <tbody>\n",
              "    <tr>\n",
              "      <th>1</th>\n",
              "      <td>(2, 3)</td>\n",
              "      <td>(3,)</td>\n",
              "    </tr>\n",
              "    <tr>\n",
              "      <th>2</th>\n",
              "      <td>(3, 1)</td>\n",
              "      <td>(1,)</td>\n",
              "    </tr>\n",
              "  </tbody>\n",
              "</table>\n",
              "</div>\n",
              "    <div class=\"colab-df-buttons\">\n",
              "\n",
              "  <div class=\"colab-df-container\">\n",
              "    <button class=\"colab-df-convert\" onclick=\"convertToInteractive('df-530f8e4f-ddc8-4521-a094-6235a0c5673f')\"\n",
              "            title=\"Convert this dataframe to an interactive table.\"\n",
              "            style=\"display:none;\">\n",
              "\n",
              "  <svg xmlns=\"http://www.w3.org/2000/svg\" height=\"24px\" viewBox=\"0 -960 960 960\">\n",
              "    <path d=\"M120-120v-720h720v720H120Zm60-500h600v-160H180v160Zm220 220h160v-160H400v160Zm0 220h160v-160H400v160ZM180-400h160v-160H180v160Zm440 0h160v-160H620v160ZM180-180h160v-160H180v160Zm440 0h160v-160H620v160Z\"/>\n",
              "  </svg>\n",
              "    </button>\n",
              "\n",
              "  <style>\n",
              "    .colab-df-container {\n",
              "      display:flex;\n",
              "      gap: 12px;\n",
              "    }\n",
              "\n",
              "    .colab-df-convert {\n",
              "      background-color: #E8F0FE;\n",
              "      border: none;\n",
              "      border-radius: 50%;\n",
              "      cursor: pointer;\n",
              "      display: none;\n",
              "      fill: #1967D2;\n",
              "      height: 32px;\n",
              "      padding: 0 0 0 0;\n",
              "      width: 32px;\n",
              "    }\n",
              "\n",
              "    .colab-df-convert:hover {\n",
              "      background-color: #E2EBFA;\n",
              "      box-shadow: 0px 1px 2px rgba(60, 64, 67, 0.3), 0px 1px 3px 1px rgba(60, 64, 67, 0.15);\n",
              "      fill: #174EA6;\n",
              "    }\n",
              "\n",
              "    .colab-df-buttons div {\n",
              "      margin-bottom: 4px;\n",
              "    }\n",
              "\n",
              "    [theme=dark] .colab-df-convert {\n",
              "      background-color: #3B4455;\n",
              "      fill: #D2E3FC;\n",
              "    }\n",
              "\n",
              "    [theme=dark] .colab-df-convert:hover {\n",
              "      background-color: #434B5C;\n",
              "      box-shadow: 0px 1px 3px 1px rgba(0, 0, 0, 0.15);\n",
              "      filter: drop-shadow(0px 1px 2px rgba(0, 0, 0, 0.3));\n",
              "      fill: #FFFFFF;\n",
              "    }\n",
              "  </style>\n",
              "\n",
              "    <script>\n",
              "      const buttonEl =\n",
              "        document.querySelector('#df-530f8e4f-ddc8-4521-a094-6235a0c5673f button.colab-df-convert');\n",
              "      buttonEl.style.display =\n",
              "        google.colab.kernel.accessAllowed ? 'block' : 'none';\n",
              "\n",
              "      async function convertToInteractive(key) {\n",
              "        const element = document.querySelector('#df-530f8e4f-ddc8-4521-a094-6235a0c5673f');\n",
              "        const dataTable =\n",
              "          await google.colab.kernel.invokeFunction('convertToInteractive',\n",
              "                                                    [key], {});\n",
              "        if (!dataTable) return;\n",
              "\n",
              "        const docLinkHtml = 'Like what you see? Visit the ' +\n",
              "          '<a target=\"_blank\" href=https://colab.research.google.com/notebooks/data_table.ipynb>data table notebook</a>'\n",
              "          + ' to learn more about interactive tables.';\n",
              "        element.innerHTML = '';\n",
              "        dataTable['output_type'] = 'display_data';\n",
              "        await google.colab.output.renderOutput(dataTable, element);\n",
              "        const docLink = document.createElement('div');\n",
              "        docLink.innerHTML = docLinkHtml;\n",
              "        element.appendChild(docLink);\n",
              "      }\n",
              "    </script>\n",
              "  </div>\n",
              "\n",
              "\n",
              "<div id=\"df-edd52f78-dcc5-4a62-bf65-537a31682b5a\">\n",
              "  <button class=\"colab-df-quickchart\" onclick=\"quickchart('df-edd52f78-dcc5-4a62-bf65-537a31682b5a')\"\n",
              "            title=\"Suggest charts\"\n",
              "            style=\"display:none;\">\n",
              "\n",
              "<svg xmlns=\"http://www.w3.org/2000/svg\" height=\"24px\"viewBox=\"0 0 24 24\"\n",
              "     width=\"24px\">\n",
              "    <g>\n",
              "        <path d=\"M19 3H5c-1.1 0-2 .9-2 2v14c0 1.1.9 2 2 2h14c1.1 0 2-.9 2-2V5c0-1.1-.9-2-2-2zM9 17H7v-7h2v7zm4 0h-2V7h2v10zm4 0h-2v-4h2v4z\"/>\n",
              "    </g>\n",
              "</svg>\n",
              "  </button>\n",
              "\n",
              "<style>\n",
              "  .colab-df-quickchart {\n",
              "      --bg-color: #E8F0FE;\n",
              "      --fill-color: #1967D2;\n",
              "      --hover-bg-color: #E2EBFA;\n",
              "      --hover-fill-color: #174EA6;\n",
              "      --disabled-fill-color: #AAA;\n",
              "      --disabled-bg-color: #DDD;\n",
              "  }\n",
              "\n",
              "  [theme=dark] .colab-df-quickchart {\n",
              "      --bg-color: #3B4455;\n",
              "      --fill-color: #D2E3FC;\n",
              "      --hover-bg-color: #434B5C;\n",
              "      --hover-fill-color: #FFFFFF;\n",
              "      --disabled-bg-color: #3B4455;\n",
              "      --disabled-fill-color: #666;\n",
              "  }\n",
              "\n",
              "  .colab-df-quickchart {\n",
              "    background-color: var(--bg-color);\n",
              "    border: none;\n",
              "    border-radius: 50%;\n",
              "    cursor: pointer;\n",
              "    display: none;\n",
              "    fill: var(--fill-color);\n",
              "    height: 32px;\n",
              "    padding: 0;\n",
              "    width: 32px;\n",
              "  }\n",
              "\n",
              "  .colab-df-quickchart:hover {\n",
              "    background-color: var(--hover-bg-color);\n",
              "    box-shadow: 0 1px 2px rgba(60, 64, 67, 0.3), 0 1px 3px 1px rgba(60, 64, 67, 0.15);\n",
              "    fill: var(--button-hover-fill-color);\n",
              "  }\n",
              "\n",
              "  .colab-df-quickchart-complete:disabled,\n",
              "  .colab-df-quickchart-complete:disabled:hover {\n",
              "    background-color: var(--disabled-bg-color);\n",
              "    fill: var(--disabled-fill-color);\n",
              "    box-shadow: none;\n",
              "  }\n",
              "\n",
              "  .colab-df-spinner {\n",
              "    border: 2px solid var(--fill-color);\n",
              "    border-color: transparent;\n",
              "    border-bottom-color: var(--fill-color);\n",
              "    animation:\n",
              "      spin 1s steps(1) infinite;\n",
              "  }\n",
              "\n",
              "  @keyframes spin {\n",
              "    0% {\n",
              "      border-color: transparent;\n",
              "      border-bottom-color: var(--fill-color);\n",
              "      border-left-color: var(--fill-color);\n",
              "    }\n",
              "    20% {\n",
              "      border-color: transparent;\n",
              "      border-left-color: var(--fill-color);\n",
              "      border-top-color: var(--fill-color);\n",
              "    }\n",
              "    30% {\n",
              "      border-color: transparent;\n",
              "      border-left-color: var(--fill-color);\n",
              "      border-top-color: var(--fill-color);\n",
              "      border-right-color: var(--fill-color);\n",
              "    }\n",
              "    40% {\n",
              "      border-color: transparent;\n",
              "      border-right-color: var(--fill-color);\n",
              "      border-top-color: var(--fill-color);\n",
              "    }\n",
              "    60% {\n",
              "      border-color: transparent;\n",
              "      border-right-color: var(--fill-color);\n",
              "    }\n",
              "    80% {\n",
              "      border-color: transparent;\n",
              "      border-right-color: var(--fill-color);\n",
              "      border-bottom-color: var(--fill-color);\n",
              "    }\n",
              "    90% {\n",
              "      border-color: transparent;\n",
              "      border-bottom-color: var(--fill-color);\n",
              "    }\n",
              "  }\n",
              "</style>\n",
              "\n",
              "  <script>\n",
              "    async function quickchart(key) {\n",
              "      const quickchartButtonEl =\n",
              "        document.querySelector('#' + key + ' button');\n",
              "      quickchartButtonEl.disabled = true;  // To prevent multiple clicks.\n",
              "      quickchartButtonEl.classList.add('colab-df-spinner');\n",
              "      try {\n",
              "        const charts = await google.colab.kernel.invokeFunction(\n",
              "            'suggestCharts', [key], {});\n",
              "      } catch (error) {\n",
              "        console.error('Error during call to suggestCharts:', error);\n",
              "      }\n",
              "      quickchartButtonEl.classList.remove('colab-df-spinner');\n",
              "      quickchartButtonEl.classList.add('colab-df-quickchart-complete');\n",
              "    }\n",
              "    (() => {\n",
              "      let quickchartButtonEl =\n",
              "        document.querySelector('#df-edd52f78-dcc5-4a62-bf65-537a31682b5a button');\n",
              "      quickchartButtonEl.style.display =\n",
              "        google.colab.kernel.accessAllowed ? 'block' : 'none';\n",
              "    })();\n",
              "  </script>\n",
              "</div>\n",
              "    </div>\n",
              "  </div>\n"
            ],
            "application/vnd.google.colaboratory.intrinsic+json": {
              "type": "dataframe",
              "summary": "{\n  \"name\": \"})\",\n  \"rows\": 2,\n  \"fields\": [\n    {\n      \"column\": \"Layer\",\n      \"properties\": {\n        \"dtype\": \"number\",\n        \"std\": 0,\n        \"min\": 1,\n        \"max\": 2,\n        \"num_unique_values\": 2,\n        \"samples\": [\n          2,\n          1\n        ],\n        \"semantic_type\": \"\",\n        \"description\": \"\"\n      }\n    },\n    {\n      \"column\": \"Weights Shape\",\n      \"properties\": {\n        \"dtype\": \"string\",\n        \"num_unique_values\": 2,\n        \"samples\": [\n          [\n            3,\n            1\n          ],\n          [\n            2,\n            3\n          ]\n        ],\n        \"semantic_type\": \"\",\n        \"description\": \"\"\n      }\n    },\n    {\n      \"column\": \"Biases Shape\",\n      \"properties\": {\n        \"dtype\": \"string\",\n        \"num_unique_values\": 2,\n        \"samples\": [\n          [\n            1\n          ],\n          [\n            3\n          ]\n        ],\n        \"semantic_type\": \"\",\n        \"description\": \"\"\n      }\n    }\n  ]\n}"
            }
          },
          "metadata": {},
          "execution_count": 4
        }
      ],
      "source": [
        "from sklearn.neural_network import MLPRegressor\n",
        "\n",
        "# Create a model\n",
        "model = MLPRegressor(hidden_layer_sizes=(3), activation='relu', max_iter=1000, random_state=10)\n",
        "model.fit(X_train_subset.values, y_train_subset.values.ravel())\n",
        "\n",
        "# Get the weights and biases\n",
        "all_weights = model.coefs_\n",
        "all_biases = model.intercepts_\n",
        "\n",
        "# Print the shape of the weights and biases\n",
        "pd.DataFrame({\n",
        "    'Layer': [i+1 for i in range(len(all_weights))],\n",
        "    'Weights Shape': [all_weights[i].shape for i in range(len(all_weights))],\n",
        "    'Biases Shape': [all_biases[i].shape for i in range(len(all_biases))]\n",
        "}).set_index('Layer')"
      ]
    },
    {
      "cell_type": "markdown",
      "metadata": {
        "id": "zaaUh-nDOeV5"
      },
      "source": [
        "So, as we can see from the shape of the weights, we get two initial inputs that go to three hidden units (also called neurons), resulting in a 2x3 matrix. Additionally, we get one bias term for each of the hidden units, resulting in a vector of size 3.\n",
        "\n",
        "In the second layer, we start from the three hidden units, and end up in the one output, leaving a matrix of 3x1 for the weights, and a single bias value for the output unit.\n",
        "\n",
        "In total, this amounts to 13 trainable parameters."
      ]
    },
    {
      "cell_type": "markdown",
      "metadata": {
        "id": "HcAAn8p-OeV6"
      },
      "source": [
        "Let us now see how the neural network predicts. To do so, we will use the first point from the training data as an example. Let us see what are the input values."
      ]
    },
    {
      "cell_type": "code",
      "execution_count": 5,
      "metadata": {
        "colab": {
          "base_uri": "https://localhost:8080/",
          "height": 81
        },
        "id": "dYo2Id9aOeV6",
        "outputId": "39a7911e-b055-48a6-a43e-27dc703d940e"
      },
      "outputs": [
        {
          "output_type": "execute_result",
          "data": {
            "text/plain": [
              "   QMeuse  QRhine\n",
              "0     290    2579"
            ],
            "text/html": [
              "\n",
              "  <div id=\"df-9078a8f7-509c-4acd-a8d5-38070ee65fbc\" class=\"colab-df-container\">\n",
              "    <div>\n",
              "<style scoped>\n",
              "    .dataframe tbody tr th:only-of-type {\n",
              "        vertical-align: middle;\n",
              "    }\n",
              "\n",
              "    .dataframe tbody tr th {\n",
              "        vertical-align: top;\n",
              "    }\n",
              "\n",
              "    .dataframe thead th {\n",
              "        text-align: right;\n",
              "    }\n",
              "</style>\n",
              "<table border=\"1\" class=\"dataframe\">\n",
              "  <thead>\n",
              "    <tr style=\"text-align: right;\">\n",
              "      <th></th>\n",
              "      <th>QMeuse</th>\n",
              "      <th>QRhine</th>\n",
              "    </tr>\n",
              "  </thead>\n",
              "  <tbody>\n",
              "    <tr>\n",
              "      <th>0</th>\n",
              "      <td>290</td>\n",
              "      <td>2579</td>\n",
              "    </tr>\n",
              "  </tbody>\n",
              "</table>\n",
              "</div>\n",
              "    <div class=\"colab-df-buttons\">\n",
              "\n",
              "  <div class=\"colab-df-container\">\n",
              "    <button class=\"colab-df-convert\" onclick=\"convertToInteractive('df-9078a8f7-509c-4acd-a8d5-38070ee65fbc')\"\n",
              "            title=\"Convert this dataframe to an interactive table.\"\n",
              "            style=\"display:none;\">\n",
              "\n",
              "  <svg xmlns=\"http://www.w3.org/2000/svg\" height=\"24px\" viewBox=\"0 -960 960 960\">\n",
              "    <path d=\"M120-120v-720h720v720H120Zm60-500h600v-160H180v160Zm220 220h160v-160H400v160Zm0 220h160v-160H400v160ZM180-400h160v-160H180v160Zm440 0h160v-160H620v160ZM180-180h160v-160H180v160Zm440 0h160v-160H620v160Z\"/>\n",
              "  </svg>\n",
              "    </button>\n",
              "\n",
              "  <style>\n",
              "    .colab-df-container {\n",
              "      display:flex;\n",
              "      gap: 12px;\n",
              "    }\n",
              "\n",
              "    .colab-df-convert {\n",
              "      background-color: #E8F0FE;\n",
              "      border: none;\n",
              "      border-radius: 50%;\n",
              "      cursor: pointer;\n",
              "      display: none;\n",
              "      fill: #1967D2;\n",
              "      height: 32px;\n",
              "      padding: 0 0 0 0;\n",
              "      width: 32px;\n",
              "    }\n",
              "\n",
              "    .colab-df-convert:hover {\n",
              "      background-color: #E2EBFA;\n",
              "      box-shadow: 0px 1px 2px rgba(60, 64, 67, 0.3), 0px 1px 3px 1px rgba(60, 64, 67, 0.15);\n",
              "      fill: #174EA6;\n",
              "    }\n",
              "\n",
              "    .colab-df-buttons div {\n",
              "      margin-bottom: 4px;\n",
              "    }\n",
              "\n",
              "    [theme=dark] .colab-df-convert {\n",
              "      background-color: #3B4455;\n",
              "      fill: #D2E3FC;\n",
              "    }\n",
              "\n",
              "    [theme=dark] .colab-df-convert:hover {\n",
              "      background-color: #434B5C;\n",
              "      box-shadow: 0px 1px 3px 1px rgba(0, 0, 0, 0.15);\n",
              "      filter: drop-shadow(0px 1px 2px rgba(0, 0, 0, 0.3));\n",
              "      fill: #FFFFFF;\n",
              "    }\n",
              "  </style>\n",
              "\n",
              "    <script>\n",
              "      const buttonEl =\n",
              "        document.querySelector('#df-9078a8f7-509c-4acd-a8d5-38070ee65fbc button.colab-df-convert');\n",
              "      buttonEl.style.display =\n",
              "        google.colab.kernel.accessAllowed ? 'block' : 'none';\n",
              "\n",
              "      async function convertToInteractive(key) {\n",
              "        const element = document.querySelector('#df-9078a8f7-509c-4acd-a8d5-38070ee65fbc');\n",
              "        const dataTable =\n",
              "          await google.colab.kernel.invokeFunction('convertToInteractive',\n",
              "                                                    [key], {});\n",
              "        if (!dataTable) return;\n",
              "\n",
              "        const docLinkHtml = 'Like what you see? Visit the ' +\n",
              "          '<a target=\"_blank\" href=https://colab.research.google.com/notebooks/data_table.ipynb>data table notebook</a>'\n",
              "          + ' to learn more about interactive tables.';\n",
              "        element.innerHTML = '';\n",
              "        dataTable['output_type'] = 'display_data';\n",
              "        await google.colab.output.renderOutput(dataTable, element);\n",
              "        const docLink = document.createElement('div');\n",
              "        docLink.innerHTML = docLinkHtml;\n",
              "        element.appendChild(docLink);\n",
              "      }\n",
              "    </script>\n",
              "  </div>\n",
              "\n",
              "    </div>\n",
              "  </div>\n"
            ],
            "application/vnd.google.colaboratory.intrinsic+json": {
              "type": "dataframe",
              "summary": "{\n  \"name\": \"X_train_subset\",\n  \"rows\": 1,\n  \"fields\": [\n    {\n      \"column\": \"QMeuse\",\n      \"properties\": {\n        \"dtype\": \"number\",\n        \"std\": null,\n        \"min\": 290.0,\n        \"max\": 290.0,\n        \"num_unique_values\": 1,\n        \"samples\": [\n          290.0\n        ],\n        \"semantic_type\": \"\",\n        \"description\": \"\"\n      }\n    },\n    {\n      \"column\": \"QRhine\",\n      \"properties\": {\n        \"dtype\": \"number\",\n        \"std\": null,\n        \"min\": 2579.0,\n        \"max\": 2579.0,\n        \"num_unique_values\": 1,\n        \"samples\": [\n          2579.0\n        ],\n        \"semantic_type\": \"\",\n        \"description\": \"\"\n      }\n    }\n  ]\n}"
            }
          },
          "metadata": {},
          "execution_count": 5
        }
      ],
      "source": [
        "pd.set_option('display.float_format', '{:n}'.format)\n",
        "X_train_subset.iloc[[0]]"
      ]
    },
    {
      "cell_type": "markdown",
      "metadata": {
        "id": "IJn9GdeCOeV6"
      },
      "source": [
        "Now let us calculate what will be the value of our first hidden unit. To do so, let us visualize the weights that connect the inputs to it."
      ]
    },
    {
      "cell_type": "code",
      "execution_count": 6,
      "metadata": {
        "colab": {
          "base_uri": "https://localhost:8080/",
          "height": 143
        },
        "id": "xBPOIUZ-OeV6",
        "outputId": "68eb723d-9c62-4d67-a113-0b63588e1b99"
      },
      "outputs": [
        {
          "output_type": "execute_result",
          "data": {
            "text/plain": [
              "  Feature     Value\n",
              "0  QMeuse  3.19e-02\n",
              "1  QRhine -1.54e-02\n",
              "2    Bias -1.24e+00"
            ],
            "text/html": [
              "\n",
              "  <div id=\"df-556ad719-4682-484f-b43a-cf7f2235b3b0\" class=\"colab-df-container\">\n",
              "    <div>\n",
              "<style scoped>\n",
              "    .dataframe tbody tr th:only-of-type {\n",
              "        vertical-align: middle;\n",
              "    }\n",
              "\n",
              "    .dataframe tbody tr th {\n",
              "        vertical-align: top;\n",
              "    }\n",
              "\n",
              "    .dataframe thead th {\n",
              "        text-align: right;\n",
              "    }\n",
              "</style>\n",
              "<table border=\"1\" class=\"dataframe\">\n",
              "  <thead>\n",
              "    <tr style=\"text-align: right;\">\n",
              "      <th></th>\n",
              "      <th>Feature</th>\n",
              "      <th>Value</th>\n",
              "    </tr>\n",
              "  </thead>\n",
              "  <tbody>\n",
              "    <tr>\n",
              "      <th>0</th>\n",
              "      <td>QMeuse</td>\n",
              "      <td>3.19e-02</td>\n",
              "    </tr>\n",
              "    <tr>\n",
              "      <th>1</th>\n",
              "      <td>QRhine</td>\n",
              "      <td>-1.54e-02</td>\n",
              "    </tr>\n",
              "    <tr>\n",
              "      <th>2</th>\n",
              "      <td>Bias</td>\n",
              "      <td>-1.24e+00</td>\n",
              "    </tr>\n",
              "  </tbody>\n",
              "</table>\n",
              "</div>\n",
              "    <div class=\"colab-df-buttons\">\n",
              "\n",
              "  <div class=\"colab-df-container\">\n",
              "    <button class=\"colab-df-convert\" onclick=\"convertToInteractive('df-556ad719-4682-484f-b43a-cf7f2235b3b0')\"\n",
              "            title=\"Convert this dataframe to an interactive table.\"\n",
              "            style=\"display:none;\">\n",
              "\n",
              "  <svg xmlns=\"http://www.w3.org/2000/svg\" height=\"24px\" viewBox=\"0 -960 960 960\">\n",
              "    <path d=\"M120-120v-720h720v720H120Zm60-500h600v-160H180v160Zm220 220h160v-160H400v160Zm0 220h160v-160H400v160ZM180-400h160v-160H180v160Zm440 0h160v-160H620v160ZM180-180h160v-160H180v160Zm440 0h160v-160H620v160Z\"/>\n",
              "  </svg>\n",
              "    </button>\n",
              "\n",
              "  <style>\n",
              "    .colab-df-container {\n",
              "      display:flex;\n",
              "      gap: 12px;\n",
              "    }\n",
              "\n",
              "    .colab-df-convert {\n",
              "      background-color: #E8F0FE;\n",
              "      border: none;\n",
              "      border-radius: 50%;\n",
              "      cursor: pointer;\n",
              "      display: none;\n",
              "      fill: #1967D2;\n",
              "      height: 32px;\n",
              "      padding: 0 0 0 0;\n",
              "      width: 32px;\n",
              "    }\n",
              "\n",
              "    .colab-df-convert:hover {\n",
              "      background-color: #E2EBFA;\n",
              "      box-shadow: 0px 1px 2px rgba(60, 64, 67, 0.3), 0px 1px 3px 1px rgba(60, 64, 67, 0.15);\n",
              "      fill: #174EA6;\n",
              "    }\n",
              "\n",
              "    .colab-df-buttons div {\n",
              "      margin-bottom: 4px;\n",
              "    }\n",
              "\n",
              "    [theme=dark] .colab-df-convert {\n",
              "      background-color: #3B4455;\n",
              "      fill: #D2E3FC;\n",
              "    }\n",
              "\n",
              "    [theme=dark] .colab-df-convert:hover {\n",
              "      background-color: #434B5C;\n",
              "      box-shadow: 0px 1px 3px 1px rgba(0, 0, 0, 0.15);\n",
              "      filter: drop-shadow(0px 1px 2px rgba(0, 0, 0, 0.3));\n",
              "      fill: #FFFFFF;\n",
              "    }\n",
              "  </style>\n",
              "\n",
              "    <script>\n",
              "      const buttonEl =\n",
              "        document.querySelector('#df-556ad719-4682-484f-b43a-cf7f2235b3b0 button.colab-df-convert');\n",
              "      buttonEl.style.display =\n",
              "        google.colab.kernel.accessAllowed ? 'block' : 'none';\n",
              "\n",
              "      async function convertToInteractive(key) {\n",
              "        const element = document.querySelector('#df-556ad719-4682-484f-b43a-cf7f2235b3b0');\n",
              "        const dataTable =\n",
              "          await google.colab.kernel.invokeFunction('convertToInteractive',\n",
              "                                                    [key], {});\n",
              "        if (!dataTable) return;\n",
              "\n",
              "        const docLinkHtml = 'Like what you see? Visit the ' +\n",
              "          '<a target=\"_blank\" href=https://colab.research.google.com/notebooks/data_table.ipynb>data table notebook</a>'\n",
              "          + ' to learn more about interactive tables.';\n",
              "        element.innerHTML = '';\n",
              "        dataTable['output_type'] = 'display_data';\n",
              "        await google.colab.output.renderOutput(dataTable, element);\n",
              "        const docLink = document.createElement('div');\n",
              "        docLink.innerHTML = docLinkHtml;\n",
              "        element.appendChild(docLink);\n",
              "      }\n",
              "    </script>\n",
              "  </div>\n",
              "\n",
              "\n",
              "<div id=\"df-05b286d3-9634-48ae-b974-491792af6804\">\n",
              "  <button class=\"colab-df-quickchart\" onclick=\"quickchart('df-05b286d3-9634-48ae-b974-491792af6804')\"\n",
              "            title=\"Suggest charts\"\n",
              "            style=\"display:none;\">\n",
              "\n",
              "<svg xmlns=\"http://www.w3.org/2000/svg\" height=\"24px\"viewBox=\"0 0 24 24\"\n",
              "     width=\"24px\">\n",
              "    <g>\n",
              "        <path d=\"M19 3H5c-1.1 0-2 .9-2 2v14c0 1.1.9 2 2 2h14c1.1 0 2-.9 2-2V5c0-1.1-.9-2-2-2zM9 17H7v-7h2v7zm4 0h-2V7h2v10zm4 0h-2v-4h2v4z\"/>\n",
              "    </g>\n",
              "</svg>\n",
              "  </button>\n",
              "\n",
              "<style>\n",
              "  .colab-df-quickchart {\n",
              "      --bg-color: #E8F0FE;\n",
              "      --fill-color: #1967D2;\n",
              "      --hover-bg-color: #E2EBFA;\n",
              "      --hover-fill-color: #174EA6;\n",
              "      --disabled-fill-color: #AAA;\n",
              "      --disabled-bg-color: #DDD;\n",
              "  }\n",
              "\n",
              "  [theme=dark] .colab-df-quickchart {\n",
              "      --bg-color: #3B4455;\n",
              "      --fill-color: #D2E3FC;\n",
              "      --hover-bg-color: #434B5C;\n",
              "      --hover-fill-color: #FFFFFF;\n",
              "      --disabled-bg-color: #3B4455;\n",
              "      --disabled-fill-color: #666;\n",
              "  }\n",
              "\n",
              "  .colab-df-quickchart {\n",
              "    background-color: var(--bg-color);\n",
              "    border: none;\n",
              "    border-radius: 50%;\n",
              "    cursor: pointer;\n",
              "    display: none;\n",
              "    fill: var(--fill-color);\n",
              "    height: 32px;\n",
              "    padding: 0;\n",
              "    width: 32px;\n",
              "  }\n",
              "\n",
              "  .colab-df-quickchart:hover {\n",
              "    background-color: var(--hover-bg-color);\n",
              "    box-shadow: 0 1px 2px rgba(60, 64, 67, 0.3), 0 1px 3px 1px rgba(60, 64, 67, 0.15);\n",
              "    fill: var(--button-hover-fill-color);\n",
              "  }\n",
              "\n",
              "  .colab-df-quickchart-complete:disabled,\n",
              "  .colab-df-quickchart-complete:disabled:hover {\n",
              "    background-color: var(--disabled-bg-color);\n",
              "    fill: var(--disabled-fill-color);\n",
              "    box-shadow: none;\n",
              "  }\n",
              "\n",
              "  .colab-df-spinner {\n",
              "    border: 2px solid var(--fill-color);\n",
              "    border-color: transparent;\n",
              "    border-bottom-color: var(--fill-color);\n",
              "    animation:\n",
              "      spin 1s steps(1) infinite;\n",
              "  }\n",
              "\n",
              "  @keyframes spin {\n",
              "    0% {\n",
              "      border-color: transparent;\n",
              "      border-bottom-color: var(--fill-color);\n",
              "      border-left-color: var(--fill-color);\n",
              "    }\n",
              "    20% {\n",
              "      border-color: transparent;\n",
              "      border-left-color: var(--fill-color);\n",
              "      border-top-color: var(--fill-color);\n",
              "    }\n",
              "    30% {\n",
              "      border-color: transparent;\n",
              "      border-left-color: var(--fill-color);\n",
              "      border-top-color: var(--fill-color);\n",
              "      border-right-color: var(--fill-color);\n",
              "    }\n",
              "    40% {\n",
              "      border-color: transparent;\n",
              "      border-right-color: var(--fill-color);\n",
              "      border-top-color: var(--fill-color);\n",
              "    }\n",
              "    60% {\n",
              "      border-color: transparent;\n",
              "      border-right-color: var(--fill-color);\n",
              "    }\n",
              "    80% {\n",
              "      border-color: transparent;\n",
              "      border-right-color: var(--fill-color);\n",
              "      border-bottom-color: var(--fill-color);\n",
              "    }\n",
              "    90% {\n",
              "      border-color: transparent;\n",
              "      border-bottom-color: var(--fill-color);\n",
              "    }\n",
              "  }\n",
              "</style>\n",
              "\n",
              "  <script>\n",
              "    async function quickchart(key) {\n",
              "      const quickchartButtonEl =\n",
              "        document.querySelector('#' + key + ' button');\n",
              "      quickchartButtonEl.disabled = true;  // To prevent multiple clicks.\n",
              "      quickchartButtonEl.classList.add('colab-df-spinner');\n",
              "      try {\n",
              "        const charts = await google.colab.kernel.invokeFunction(\n",
              "            'suggestCharts', [key], {});\n",
              "      } catch (error) {\n",
              "        console.error('Error during call to suggestCharts:', error);\n",
              "      }\n",
              "      quickchartButtonEl.classList.remove('colab-df-spinner');\n",
              "      quickchartButtonEl.classList.add('colab-df-quickchart-complete');\n",
              "    }\n",
              "    (() => {\n",
              "      let quickchartButtonEl =\n",
              "        document.querySelector('#df-05b286d3-9634-48ae-b974-491792af6804 button');\n",
              "      quickchartButtonEl.style.display =\n",
              "        google.colab.kernel.accessAllowed ? 'block' : 'none';\n",
              "    })();\n",
              "  </script>\n",
              "</div>\n",
              "    </div>\n",
              "  </div>\n"
            ],
            "application/vnd.google.colaboratory.intrinsic+json": {
              "type": "dataframe",
              "summary": "{\n  \"name\": \"})\",\n  \"rows\": 3,\n  \"fields\": [\n    {\n      \"column\": \"Feature\",\n      \"properties\": {\n        \"dtype\": \"string\",\n        \"num_unique_values\": 3,\n        \"samples\": [\n          \"QMeuse\",\n          \"QRhine\",\n          \"Bias\"\n        ],\n        \"semantic_type\": \"\",\n        \"description\": \"\"\n      }\n    },\n    {\n      \"column\": \"Value\",\n      \"properties\": {\n        \"dtype\": \"number\",\n        \"std\": 0.7224551623674205,\n        \"min\": -1.2424005140429653,\n        \"max\": 0.03194460123083812,\n        \"num_unique_values\": 3,\n        \"samples\": [\n          0.03194460123083812,\n          -0.015433263078499541,\n          -1.2424005140429653\n        ],\n        \"semantic_type\": \"\",\n        \"description\": \"\"\n      }\n    }\n  ]\n}"
            }
          },
          "metadata": {},
          "execution_count": 6
        }
      ],
      "source": [
        "# Print the weights that go to the first hidden unit, and the bias\n",
        "pd.set_option('display.float_format', '{:.2e}'.format)\n",
        "pd.DataFrame({\n",
        "    'Feature': list(X_train_subset.columns) + ['Bias'],\n",
        "    'Value': list(all_weights[0][:, 0]) + [all_biases[0][0]]\n",
        "})"
      ]
    },
    {
      "cell_type": "markdown",
      "metadata": {
        "id": "_Q5ZW0OhOeV6"
      },
      "source": [
        "Perfect, now that we know the weights for each of the input, we can easily calculate the value of our neuron like we would in a simple linear regression. This results will need to be fed to the activation function of choice, in our case ReLU, which ensures that the output is not linear, enabling our neural network to learn literally *any* function.\n",
        "\n",
        "The Relu function is quite simple to implement, for any negative value the output is zero, and for any positive value the output is unchanged.\n",
        "\n",
        "$$Y_1 = f_{act}(X_1 \\cdot w_1 + X_2 \\cdot w_2 + b)$$\n",
        "$$Y_1 = ReLU(290 \\cdot 3.19e^{-02} + 2579 \\cdot -1.54e^{-02} - 1.24)$$\n",
        "$$Y_1 = ReLU(-31.78) = 0$$\n",
        "\n",
        "So, the output of our neuron is zero. We can do the same easily for all three neurons in code by using the dot function in numpy. Then we simply need to apply ReLU, which means setting any negative value to zero."
      ]
    },
    {
      "cell_type": "code",
      "execution_count": 7,
      "metadata": {
        "colab": {
          "base_uri": "https://localhost:8080/"
        },
        "id": "kT8Yg8MsOeV7",
        "outputId": "9f07f98f-db69-4169-fc26-ebaa919b6d95"
      },
      "outputs": [
        {
          "output_type": "stream",
          "name": "stdout",
          "text": [
            "Neuron Activation:\n",
            "Before ReLU: [[-31.78085164 587.60246325  -0.72494184]]\n",
            "After ReLU: [[  0.         587.60246325   0.        ]]\n"
          ]
        }
      ],
      "source": [
        "# Find the output of the first hidden unit\n",
        "hidden_unit_output = np.dot(X_train_subset.iloc[[0]], all_weights[0]) + all_biases[0]\n",
        "\n",
        "# Print the output before applying ReLU\n",
        "print(\"Neuron Activation:\")\n",
        "print(\"Before ReLU:\", hidden_unit_output)\n",
        "\n",
        "# Apply ReLU\n",
        "hidden_unit_output_relu = np.maximum(0, hidden_unit_output)\n",
        "\n",
        "# Print the output after applying ReLU\n",
        "print(\"After ReLU:\", hidden_unit_output_relu)"
      ]
    },
    {
      "cell_type": "markdown",
      "metadata": {
        "id": "x85CGuLEOeV7"
      },
      "source": [
        "Finally, we can use the dot function again using the weights in the last layer to obtain the output. Let's see how this looks, and compare it to the actual prediction. Because this is already the output of our model, we don't apply the ReLU function this time - we want to be able to predict negative values too!"
      ]
    },
    {
      "cell_type": "code",
      "execution_count": 8,
      "metadata": {
        "colab": {
          "base_uri": "https://localhost:8080/"
        },
        "id": "CQ9sOWVdOeV7",
        "outputId": "19675ae7-734f-40bc-9bc0-1d21b33fff14"
      },
      "outputs": [
        {
          "output_type": "stream",
          "name": "stdout",
          "text": [
            "Model output: [225.98599972]\n",
            "Manually calculated output: [[225.98599972]]\n"
          ]
        }
      ],
      "source": [
        "# Print the ouptput of the model both using the predict function and manually\n",
        "print(\"Model output:\", model.predict(X_train_subset.iloc[[0]].values))\n",
        "\n",
        "last_unit_output = np.dot(hidden_unit_output_relu, all_weights[1]) + all_biases[1]\n",
        "print(\"Manually calculated output:\", last_unit_output)"
      ]
    },
    {
      "cell_type": "markdown",
      "metadata": {
        "id": "bbeAzpR7OeV8"
      },
      "source": [
        "The result is indeed the same!\n",
        "\n",
        "<!--Here is a small schematic with how we computed this result, with all the weights, biases and neuron activations involved. -->"
      ]
    },
    {
      "cell_type": "markdown",
      "metadata": {
        "id": "dQWcVW1U_L_O"
      },
      "source": [
        "### Training NNs: visualizing the model improvement"
      ]
    },
    {
      "cell_type": "markdown",
      "metadata": {
        "id": "rS1wwrdnOeV8"
      },
      "source": [
        "Now we know how neural networks predict, but how do they actually train? It is a rather complicated topic so we won't go into the details, but basically it calibrates the weights and biases progressively to optimize a certain loss function, usually MSE. To do so, it computes the gradient of the loss as a function of the weights (and biases), to find what is the direction with a steepest descent, and taking a step in that direction. The size of the step is what we call the learning rate. If we do that for a few iterations, we hope to reach the values of the weights that minimize the loss.\n",
        "\n",
        "We can see how the loss evolved for each iteration with the following plot.\n",
        "\n"
      ]
    },
    {
      "cell_type": "code",
      "execution_count": 9,
      "metadata": {
        "id": "xqMXRuIJ_eah",
        "colab": {
          "base_uri": "https://localhost:8080/",
          "height": 472
        },
        "outputId": "7ced6e18-9cd0-431e-bfaa-54047bf9831b"
      },
      "outputs": [
        {
          "output_type": "display_data",
          "data": {
            "text/plain": [
              "<Figure size 640x480 with 1 Axes>"
            ],
            "image/png": "[encoded data removed]"
          },
          "metadata": {}
        }
      ],
      "source": [
        "# Plot the loss at each iteration\n",
        "plt.plot(model.loss_curve_)\n",
        "plt.title('Loss Improvement')\n",
        "plt.xlabel('Iteration')\n",
        "plt.ylabel('Loss')\n",
        "plt.show()"
      ]
    },
    {
      "cell_type": "markdown",
      "metadata": {
        "id": "-RiHGH9EOeV8"
      },
      "source": [
        "So, at each iteration, the model goes through all of the training data and, through backpropagation of the loss, the optimizer (in our case, Adam) changes the weights of our network to slowly improve the model accuracy. If the line becomes horizontal, it means that our model is no longer learning anything from the data."
      ]
    },
    {
      "cell_type": "markdown",
      "metadata": {
        "id": "KMSMHSaY_e5O"
      },
      "source": [
        "## 3.3 The power of deep learning - tuning our NN"
      ]
    },
    {
      "cell_type": "markdown",
      "metadata": {
        "id": "PJwrTSVVOeV9"
      },
      "source": [
        "Let us now use the full data and train a fully fledged neural network, in order to unleash the power of deep learning. To start, we will widen our hidden layer to 1000 neurons. Because it is a fully connected neural network, we have a connection from each of the neurons in the previous layer to each of the neurons in the next, resulting in many more connections than one might expect. Let's quickly compute to how many trainable parameters that amounts."
      ]
    },
    {
      "cell_type": "code",
      "execution_count": 10,
      "metadata": {
        "id": "tSAtnrmJ_g-8",
        "colab": {
          "base_uri": "https://localhost:8080/"
        },
        "outputId": "7bc07288-05dd-41fe-9a30-f4adc8084361"
      },
      "outputs": [
        {
          "output_type": "stream",
          "name": "stdout",
          "text": [
            "Number of trainable parameters: 7001\n"
          ]
        }
      ],
      "source": [
        "# Fit a wide model\n",
        "model_wide = MLPRegressor(hidden_layer_sizes=(1000), activation='relu', max_iter=1000, random_state=10)\n",
        "model_wide.fit(X_train.values, y_train.values.ravel())\n",
        "\n",
        "# Print the number of trainable parameters\n",
        "n_params = sum([w.size for w in model_wide.coefs_] + [b.size for b in model_wide.intercepts_])\n",
        "print(\"Number of trainable parameters:\", n_params)"
      ]
    },
    {
      "cell_type": "markdown",
      "metadata": {
        "id": "9FzFaFHHOeV9"
      },
      "source": [
        "That is already much more than the 13 before. But that is not really *deep*. To do that, we need to add more hidden layers. To make the models comparable, however, we need to reduce the number of units per layer."
      ]
    },
    {
      "cell_type": "code",
      "execution_count": 11,
      "metadata": {
        "colab": {
          "base_uri": "https://localhost:8080/"
        },
        "id": "p7VeOlfvOeV9",
        "outputId": "c7976a58-d75b-4a05-842d-d112865230b5"
      },
      "outputs": [
        {
          "output_type": "stream",
          "name": "stdout",
          "text": [
            "Number of trainable parameters: 10551\n"
          ]
        }
      ],
      "source": [
        "# Fit a deep model\n",
        "model_deep = MLPRegressor(hidden_layer_sizes=(50, 50, 50, 50, 50), activation='relu', max_iter=1000, random_state=10)\n",
        "model_deep.fit(X_train.values, y_train.values.ravel())\n",
        "\n",
        "# Print the number of trainable parameters\n",
        "n_params = sum([w.size for w in model_deep.coefs_] + [b.size for b in model_deep.intercepts_])\n",
        "print(\"Number of trainable parameters:\", n_params)"
      ]
    },
    {
      "cell_type": "markdown",
      "metadata": {
        "id": "wmKXSNibOeV9"
      },
      "source": [
        "Perfect, now let's compare how the two are able to learn from the training data."
      ]
    },
    {
      "cell_type": "code",
      "execution_count": 12,
      "metadata": {
        "colab": {
          "base_uri": "https://localhost:8080/",
          "height": 504
        },
        "id": "oF6zGTYXOeV-",
        "outputId": "a9d64336-5bf0-4d60-ee5c-4f75cde0da97"
      },
      "outputs": [
        {
          "output_type": "stream",
          "name": "stdout",
          "text": [
            "Wide model RMSE: 33.83364314537006\n",
            "Deep model RMSE: 23.473595241811644\n"
          ]
        },
        {
          "output_type": "display_data",
          "data": {
            "text/plain": [
              "<Figure size 1000x500 with 1 Axes>"
            ],
            "image/png": "[encoded data removed]"
          },
          "metadata": {}
        }
      ],
      "source": [
        "# Predict the first 200 training values\n",
        "y_pred_wide = model_wide.predict(X_train.values[:200])\n",
        "y_pred_deep = model_deep.predict(X_train.values[:200])\n",
        "\n",
        "# Print the RMSE for each model\n",
        "from sklearn.metrics import mean_squared_error\n",
        "\n",
        "rmse_wide = mean_squared_error(y_train.values[:200], y_pred_wide, squared=False)\n",
        "rmse_deep = mean_squared_error(y_train.values[:200], y_pred_deep, squared=False)\n",
        "\n",
        "print(\"Wide model RMSE:\", rmse_wide)\n",
        "print(\"Deep model RMSE:\", rmse_deep)\n",
        "\n",
        "# Plot the predictions\n",
        "plt.figure(figsize=(10, 5))\n",
        "plt.plot(y_train.values[:200], label='True values')\n",
        "plt.plot(y_pred_wide, label='Wide model predictions')\n",
        "plt.plot(y_pred_deep, label='Deep model predictions')\n",
        "plt.legend()\n",
        "plt.title('Model Predictions')\n",
        "plt.show()"
      ]
    },
    {
      "cell_type": "markdown",
      "metadata": {
        "id": "gkmPKsSBOeV-"
      },
      "source": [
        "In general, deeper models are able to learn more complex patterns, as each layers adds a level of abstractions to the concepts in can capture. However, it is important to remember that a single layer neural network is enough to capture any function, that is why we call them universal approximators."
      ]
    },
    {
      "cell_type": "markdown",
      "metadata": {
        "id": "9d8OrYFh_kLX"
      },
      "source": [
        "### Effect of most important hyperparameters."
      ]
    },
    {
      "cell_type": "markdown",
      "metadata": {
        "id": "qQhK_CtvOeV-"
      },
      "source": [
        "The structure of the neural network, which we have changed before, is also a hyperparameter, but neural networks have many more of those. As we know, changing those can have quite a big impact on the model's performance an computational impact. To simplify the process of finding the right hyperparameters, we have compiled a table explaining what you should aim for in each of them."
      ]
    },
    {
      "cell_type": "markdown",
      "metadata": {
        "id": "rruk-DWaOeV-"
      },
      "source": [
        "| Category             | Hyperparameter       | Description                                         | Default Value         | Tuning Advice                                 | Example Tuning Range                                   |\n",
        "|----------------------|----------------------|-----------------------------------------------------|-----------------------|-----------------------------------------------|----------------------------------------------------------|\n",
        "| Network Architecture | `number_of_layers`   | Number of hidden layers in the network.             | `1`                   | Increase for more complex problems, but beware of overfitting. | 1 to 10.                         |\n",
        "|                      | `neurons_per_layer`  | Number of neurons in each hidden layer.             | `32`                  | Adjust based on problem complexity and dataset size. | 10 to 1000.                     |\n",
        "|                      | `activation_function`| The function used to get the output of a node.      | `relu`                | Choose based on problem type and complexity. | `relu`, `sigmoid`, `tanh`, `softmax`.                    |\n",
        "| Training             | `learning_rate`      | Step size at each iteration while moving toward a minimum of a loss function. | `0.01`               | Decrease if training process is unstable, increase if training is slow. | 0.0001 to 1.0.                                           |\n",
        "|                      | `epochs`             | Number of complete passes through the training dataset. | `10`                  | Increase until no further improvement. | 10 to 1000.                     |\n",
        "|                      | `optimizer`          | The algorithm used to change the attributes of the neural network such as weights and learning rate in order to reduce the losses. | `adam` | Choose based on problem type and complexity. | `adam`, `sgd`, `rmsprop`, `adagrad`.                     |"
      ]
    },
    {
      "cell_type": "markdown",
      "source": [
        "## 3.4 Final remarks"
      ],
      "metadata": {
        "id": "PA6eiA6mPFKz"
      }
    },
    {
      "cell_type": "markdown",
      "source": [
        "Well, we have learnt a lot about Neural Networks in this workshop. Now it is time for you to practice a bit more with them. For example, you could try to tune one of the other hyperparameters in the table, and see its effect in the training loss and predictions. Feel free to copy-paste code from the previous chapters!"
      ],
      "metadata": {
        "id": "mU_Cf4qDPYCI"
      }
    },
    {
      "cell_type": "code",
      "source": [
        "# Set hyperparameter values to tune\n",
        "\n",
        "\n",
        "# Train a model for each of these values (and store them!)\n",
        "\n"
      ],
      "metadata": {
        "id": "L_HFbDZLPYtZ"
      },
      "execution_count": null,
      "outputs": []
    },
    {
      "cell_type": "code",
      "source": [
        "# Plot the training curves for the models"
      ],
      "metadata": {
        "id": "Zo_viNinPgXu"
      },
      "execution_count": null,
      "outputs": []
    },
    {
      "cell_type": "code",
      "source": [
        "# Plot the predictions of the stored models on the test data\n"
      ],
      "metadata": {
        "id": "RZrSqYqgPlUV"
      },
      "execution_count": null,
      "outputs": []
    }
  ],
  "metadata": {
    "colab": {
      "provenance": [],
      "include_colab_link": true
    },
    "kernelspec": {
      "display_name": "Python 3",
      "name": "python3"
    },
    "language_info": {
      "codemirror_mode": {
        "name": "ipython",
        "version": 3
      },
      "file_extension": ".py",
      "mimetype": "text/x-python",
      "name": "python",
      "nbconvert_exporter": "python",
      "pygments_lexer": "ipython3",
      "version": "3.10.8"
    }
  },
  "nbformat": 4,
  "nbformat_minor": 0
}