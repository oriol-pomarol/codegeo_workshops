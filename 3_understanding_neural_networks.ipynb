{
  "cells": [
    {
      "cell_type": "markdown",
      "metadata": {
        "colab_type": "text",
        "id": "view-in-github"
      },
      "source": [
        "<a href=\"https://colab.research.google.com/github/oriol-pomarol/codegeo_workshops/blob/main/3_understanding_neural_networks.ipynb\" target=\"_parent\"><img src=\"https://colab.research.google.com/assets/colab-badge.svg\" alt=\"Open In Colab\"/></a>"
      ]
    },
    {
      "cell_type": "markdown",
      "metadata": {
        "id": "UDe5BIX-x_lY"
      },
      "source": [
        "# 3. How do they work? - understanding Neural Networks\n",
        "\n",
        "In the previous workshop, we built a Random Forest model. Today we will delve into a more complex machine learning approach: deep learning models, specifically Neural Networks. Neural Networks consist of three primary layers: the input layer, hidden layers (one or more), and the output layer.\n",
        "\n",
        "There are various types of Neural Networks with distinct structures, including Convolutional Neural Networks (CNN) for image recognition or spatial data, Long Short-Term Memory networks (LSTM) for sequence data such as time series, and Multilayer perceptrons for general tasks. We are going to focus on the latter, as it is the simplest and and serves as a good base for the rest."
      ]
    },
    {
      "cell_type": "markdown",
      "metadata": {
        "id": "uYlZYZG3yyUM"
      },
      "source": [
        "## 3.1 Problem definition"
      ]
    },
    {
      "cell_type": "markdown",
      "metadata": {
        "id": "qbjbsGvey7Kn"
      },
      "source": [
        "We use the same dataset as in the previous workshop, in which we want to predict the water level at the Hagestein station using a selection of five meteorological and hydrological variables: the discharge of the Rhine and Meuse at the Dutch border, the water level of the North Sea, precipitation and evaporation.\n",
        "\n",
        "**Dataset**: We have daily measurements of the described variables spanning from 1981 to 2019. For more information about the data sources, we encourage you to check [Hauswirth et al. (2021)](https://doi.org/10.1016/j.advwatres.2021.104017).\n",
        "\n",
        "![picture](https://drive.google.com/uc?export=view&id=1gLk7NO1tvM9cLj-JMgG8eEaNXHw_DWVl)\n",
        "\n",
        "*Door Rijksdienst voor het Cultureel Erfgoed, CC BY-SA 4.0, https[]()://commons.wikimedia.org/w/index.php?curid=24032939*"
      ]
    },
    {
      "cell_type": "markdown",
      "metadata": {
        "id": "24D0xvRYz1ck"
      },
      "source": [
        "### Import data and libraries"
      ]
    },
    {
      "cell_type": "code",
      "execution_count": 1,
      "metadata": {
        "id": "YTc3zx9jz82E"
      },
      "outputs": [],
      "source": [
        "import pandas as pd\n",
        "import numpy as np\n",
        "import matplotlib.pyplot as plt\n",
        "\n",
        "# Load the data\n",
        "data_url =  \"https://raw.githubusercontent.com/Jignesh1594/CodeGeoworkshop_02_understanding_RF/master/data.csv\"\n",
        "data = pd.read_csv(data_url, delimiter=\",\", on_bad_lines='skip')\n",
        "input_data = data[['WLHv', 'RH', 'EV24', 'QMeuse', 'QRhine']]\n",
        "output_data = data[['value']]"
      ]
    },
    {
      "cell_type": "markdown",
      "metadata": {
        "id": "Eb95409h1kyu"
      },
      "source": [
        "### Split the data into train and test dataset\n"
      ]
    },
    {
      "cell_type": "code",
      "execution_count": 2,
      "metadata": {
        "id": "Y3an8sC41znT"
      },
      "outputs": [],
      "source": [
        "from sklearn.model_selection import train_test_split\n",
        "\n",
        "X_train, X_test, y_train, y_test = train_test_split(input_data, output_data, test_size=0.1, shuffle=False)"
      ]
    },
    {
      "cell_type": "markdown",
      "metadata": {
        "id": "EizqwRXc-zl6"
      },
      "source": [
        "## 3.2 A simple case scenario - shallow networks"
      ]
    },
    {
      "cell_type": "markdown",
      "metadata": {
        "id": "If9Kr1GM_Hq1"
      },
      "source": [
        "### Predicting with NNs: neuron activation"
      ]
    },
    {
      "cell_type": "markdown",
      "metadata": {
        "id": "dLn7Tr0JOeV4"
      },
      "source": [
        "To simplify the model training, we will use a subset of our training data, taking only two input variables, the discharge from the Meuse and Rhine respectively, and only the first 1000 observations."
      ]
    },
    {
      "cell_type": "code",
      "execution_count": 3,
      "metadata": {
        "id": "P6vjUONOOeV5"
      },
      "outputs": [],
      "source": [
        "# Subset data to 2 columns\n",
        "X_train_subset = X_train.iloc[:1000, -2:]\n",
        "X_test_subset = X_test.iloc[:1000, -2:]\n",
        "\n",
        "y_train_subset = y_train.iloc[:1000, :]\n",
        "y_test_subset = y_test.iloc[:1000, :]"
      ]
    },
    {
      "cell_type": "markdown",
      "metadata": {
        "id": "U96haSTgOeV5"
      },
      "source": [
        "Let's start by training a small, shallow neural network of only one hidden layer with three units in it, so we can easily see what is going on. Lets train it on our subset data and see the shape of our weights."
      ]
    },
    {
      "cell_type": "code",
      "execution_count": 4,
      "metadata": {
        "colab": {
          "base_uri": "https://localhost:8080/",
          "height": 179
        },
        "id": "9q2qNWTJ_WRy",
        "outputId": "0beec4ee-b80b-464e-b22f-52c958df9e18"
      },
      "outputs": [
        {
          "name": "stderr",
          "output_type": "stream",
          "text": [
            "c:\\Users\\4946057\\Miniconda3\\envs\\project_4946057\\lib\\site-packages\\sklearn\\neural_network\\_multilayer_perceptron.py:679: ConvergenceWarning: Stochastic Optimizer: Maximum iterations (1000) reached and the optimization hasn't converged yet.\n",
            "  warnings.warn(\n"
          ]
        },
        {
          "data": {
            "text/html": [
              "<div>\n",
              "<style scoped>\n",
              "    .dataframe tbody tr th:only-of-type {\n",
              "        vertical-align: middle;\n",
              "    }\n",
              "\n",
              "    .dataframe tbody tr th {\n",
              "        vertical-align: top;\n",
              "    }\n",
              "\n",
              "    .dataframe thead th {\n",
              "        text-align: right;\n",
              "    }\n",
              "</style>\n",
              "<table border=\"1\" class=\"dataframe\">\n",
              "  <thead>\n",
              "    <tr style=\"text-align: right;\">\n",
              "      <th></th>\n",
              "      <th>Weights Shape</th>\n",
              "      <th>Biases Shape</th>\n",
              "    </tr>\n",
              "    <tr>\n",
              "      <th>Layer</th>\n",
              "      <th></th>\n",
              "      <th></th>\n",
              "    </tr>\n",
              "  </thead>\n",
              "  <tbody>\n",
              "    <tr>\n",
              "      <th>1</th>\n",
              "      <td>(2, 3)</td>\n",
              "      <td>(3,)</td>\n",
              "    </tr>\n",
              "    <tr>\n",
              "      <th>2</th>\n",
              "      <td>(3, 1)</td>\n",
              "      <td>(1,)</td>\n",
              "    </tr>\n",
              "  </tbody>\n",
              "</table>\n",
              "</div>"
            ],
            "text/plain": [
              "      Weights Shape Biases Shape\n",
              "Layer                           \n",
              "1            (2, 3)         (3,)\n",
              "2            (3, 1)         (1,)"
            ]
          },
          "execution_count": 4,
          "metadata": {},
          "output_type": "execute_result"
        }
      ],
      "source": [
        "from sklearn.neural_network import MLPRegressor\n",
        "\n",
        "# Create a model\n",
        "model = MLPRegressor(hidden_layer_sizes=(3), activation='relu', max_iter=1000, random_state=10)\n",
        "model.fit(X_train_subset.values, y_train_subset.values.ravel())\n",
        "\n",
        "# Get the weights and biases\n",
        "all_weights = model.coefs_\n",
        "all_biases = model.intercepts_\n",
        "\n",
        "# Print the shape of the weights and biases\n",
        "pd.DataFrame({\n",
        "    'Layer': [i+1 for i in range(len(all_weights))],\n",
        "    'Weights Shape': [all_weights[i].shape for i in range(len(all_weights))],\n",
        "    'Biases Shape': [all_biases[i].shape for i in range(len(all_biases))]\n",
        "}).set_index('Layer')"
      ]
    },
    {
      "cell_type": "markdown",
      "metadata": {
        "id": "zaaUh-nDOeV5"
      },
      "source": [
        "So, as we can see from the shape of the weights, we get two initial inputs that go to three hidden units (also called neurons), resulting in a 2x3 matrix. Additionally, we get one bias term for each of the hidden units, resulting in a vector of size 3.\n",
        "\n",
        "In the second layer, we start from the three hidden units, and end up in the one output, leaving a matrix of 3x1 for the weights, and a single bias value for the output unit.\n",
        "\n",
        "In total, this amounts to 13 trainable parameters. Here we can see a sketch with the model structure, with its weights and biases:\n",
        "\n",
        "![picture](https://drive.google.com/uc?export=view&id=1TfXVnB2HqiFDiVBLZ23t6Sjna8i86sdd)"
      ]
    },
    {
      "cell_type": "markdown",
      "metadata": {
        "id": "HcAAn8p-OeV6"
      },
      "source": [
        "Let us now see how the neural network predicts. To do so, we will use the first point from the training data as an example. Let us see what are the input values."
      ]
    },
    {
      "cell_type": "code",
      "execution_count": 5,
      "metadata": {
        "colab": {
          "base_uri": "https://localhost:8080/",
          "height": 81
        },
        "id": "dYo2Id9aOeV6",
        "outputId": "39a7911e-b055-48a6-a43e-27dc703d940e"
      },
      "outputs": [
        {
          "data": {
            "text/html": [
              "<div>\n",
              "<style scoped>\n",
              "    .dataframe tbody tr th:only-of-type {\n",
              "        vertical-align: middle;\n",
              "    }\n",
              "\n",
              "    .dataframe tbody tr th {\n",
              "        vertical-align: top;\n",
              "    }\n",
              "\n",
              "    .dataframe thead th {\n",
              "        text-align: right;\n",
              "    }\n",
              "</style>\n",
              "<table border=\"1\" class=\"dataframe\">\n",
              "  <thead>\n",
              "    <tr style=\"text-align: right;\">\n",
              "      <th></th>\n",
              "      <th>QMeuse</th>\n",
              "      <th>QRhine</th>\n",
              "    </tr>\n",
              "  </thead>\n",
              "  <tbody>\n",
              "    <tr>\n",
              "      <th>0</th>\n",
              "      <td>290</td>\n",
              "      <td>2579</td>\n",
              "    </tr>\n",
              "  </tbody>\n",
              "</table>\n",
              "</div>"
            ],
            "text/plain": [
              "   QMeuse  QRhine\n",
              "0     290    2579"
            ]
          },
          "execution_count": 5,
          "metadata": {},
          "output_type": "execute_result"
        }
      ],
      "source": [
        "pd.set_option('display.float_format', '{:n}'.format)\n",
        "X_train_subset.iloc[[0]]"
      ]
    },
    {
      "cell_type": "markdown",
      "metadata": {
        "id": "IJn9GdeCOeV6"
      },
      "source": [
        "Now let us calculate what will be the value of our first hidden unit. To do so, let us visualize the weights that connect the inputs to it."
      ]
    },
    {
      "cell_type": "code",
      "execution_count": 6,
      "metadata": {
        "colab": {
          "base_uri": "https://localhost:8080/",
          "height": 143
        },
        "id": "xBPOIUZ-OeV6",
        "outputId": "68eb723d-9c62-4d67-a113-0b63588e1b99"
      },
      "outputs": [
        {
          "data": {
            "text/html": [
              "<div>\n",
              "<style scoped>\n",
              "    .dataframe tbody tr th:only-of-type {\n",
              "        vertical-align: middle;\n",
              "    }\n",
              "\n",
              "    .dataframe tbody tr th {\n",
              "        vertical-align: top;\n",
              "    }\n",
              "\n",
              "    .dataframe thead th {\n",
              "        text-align: right;\n",
              "    }\n",
              "</style>\n",
              "<table border=\"1\" class=\"dataframe\">\n",
              "  <thead>\n",
              "    <tr style=\"text-align: right;\">\n",
              "      <th></th>\n",
              "      <th>Feature</th>\n",
              "      <th>Value</th>\n",
              "    </tr>\n",
              "  </thead>\n",
              "  <tbody>\n",
              "    <tr>\n",
              "      <th>0</th>\n",
              "      <td>QMeuse</td>\n",
              "      <td>3.19e-02</td>\n",
              "    </tr>\n",
              "    <tr>\n",
              "      <th>1</th>\n",
              "      <td>QRhine</td>\n",
              "      <td>-1.54e-02</td>\n",
              "    </tr>\n",
              "    <tr>\n",
              "      <th>2</th>\n",
              "      <td>Bias</td>\n",
              "      <td>-1.24e+00</td>\n",
              "    </tr>\n",
              "  </tbody>\n",
              "</table>\n",
              "</div>"
            ],
            "text/plain": [
              "  Feature     Value\n",
              "0  QMeuse  3.19e-02\n",
              "1  QRhine -1.54e-02\n",
              "2    Bias -1.24e+00"
            ]
          },
          "execution_count": 6,
          "metadata": {},
          "output_type": "execute_result"
        }
      ],
      "source": [
        "# Print the weights that go to the first hidden unit, and the bias\n",
        "pd.set_option('display.float_format', '{:.2e}'.format)\n",
        "pd.DataFrame({\n",
        "    'Feature': list(X_train_subset.columns) + ['Bias'],\n",
        "    'Value': list(all_weights[0][:, 0]) + [all_biases[0][0]]\n",
        "})"
      ]
    },
    {
      "cell_type": "markdown",
      "metadata": {
        "id": "_Q5ZW0OhOeV6"
      },
      "source": [
        "Perfect, now that we know the weights for each of the input, we can easily calculate the value of our neuron like we would in a simple linear regression. This results will need to be fed to the activation function of choice, in our case ReLU, which ensures that the output is not linear, enabling our neural network to learn literally *any* function.\n",
        "\n",
        "The Relu function is quite simple to implement, for any negative value the output is zero, and for any positive value the output is unchanged.\n",
        "\n",
        "$$Y_1 = f_{act}(X_1 \\cdot w_1 + X_2 \\cdot w_2 + b)$$\n",
        "$$Y_1 = ReLU(290 \\cdot 3.19e^{-2} + 2579 \\cdot -1.54e^{-2} - 1.24)$$\n",
        "$$Y_1 = ReLU(-31.78) = 0$$\n",
        "\n",
        "So, the output of our neuron is zero. We can do the same easily for all three neurons in code by using the dot function in numpy. Then we simply need to apply ReLU, which means setting any negative value to zero."
      ]
    },
    {
      "cell_type": "code",
      "execution_count": 7,
      "metadata": {
        "colab": {
          "base_uri": "https://localhost:8080/"
        },
        "id": "kT8Yg8MsOeV7",
        "outputId": "9f07f98f-db69-4169-fc26-ebaa919b6d95"
      },
      "outputs": [
        {
          "name": "stdout",
          "output_type": "stream",
          "text": [
            "Neuron Activation:\n",
            "Before ReLU: [[-31.78085164 587.60246325  -0.72494184]]\n",
            "After ReLU: [[  0.         587.60246325   0.        ]]\n"
          ]
        }
      ],
      "source": [
        "# Find the output of the first hidden unit\n",
        "hidden_unit_output = np.dot(X_train_subset.iloc[[0]], all_weights[0]) + all_biases[0]\n",
        "\n",
        "# Print the output before applying ReLU\n",
        "print(\"Neuron Activation:\")\n",
        "print(\"Before ReLU:\", hidden_unit_output)\n",
        "\n",
        "# Apply ReLU\n",
        "hidden_unit_output_relu = np.maximum(0, hidden_unit_output)\n",
        "\n",
        "# Print the output after applying ReLU\n",
        "print(\"After ReLU:\", hidden_unit_output_relu)"
      ]
    },
    {
      "cell_type": "markdown",
      "metadata": {
        "id": "x85CGuLEOeV7"
      },
      "source": [
        "Finally, we can use the dot function again using the weights in the last layer to obtain the output. Let's see how this looks, and compare it to the actual prediction. Because this is already the output of our model, we don't apply the ReLU function this time - we want to be able to predict negative values too!"
      ]
    },
    {
      "cell_type": "code",
      "execution_count": 8,
      "metadata": {
        "colab": {
          "base_uri": "https://localhost:8080/"
        },
        "id": "CQ9sOWVdOeV7",
        "outputId": "19675ae7-734f-40bc-9bc0-1d21b33fff14"
      },
      "outputs": [
        {
          "name": "stdout",
          "output_type": "stream",
          "text": [
            "Model output: [225.98599972]\n",
            "Manually calculated output: [[225.98599972]]\n"
          ]
        }
      ],
      "source": [
        "# Print the ouptput of the model both using the predict function and manually\n",
        "print(\"Model output:\", model.predict(X_train_subset.iloc[[0]].values))\n",
        "\n",
        "last_unit_output = np.dot(hidden_unit_output_relu, all_weights[1]) + all_biases[1]\n",
        "print(\"Manually calculated output:\", last_unit_output)"
      ]
    },
    {
      "cell_type": "markdown",
      "metadata": {
        "id": "bbeAzpR7OeV8"
      },
      "source": [
        "The result is indeed the same! Here is a small schematic summarizing what we have done:\n",
        "\n",
        "![picture](https://drive.google.com/uc?export=view&id=16ivAAwlq4yKufyGwI0Ofl-jEqWf70MDS)"
      ]
    },
    {
      "cell_type": "markdown",
      "metadata": {
        "id": "dQWcVW1U_L_O"
      },
      "source": [
        "### Training NNs: visualizing the model improvement"
      ]
    },
    {
      "cell_type": "markdown",
      "metadata": {
        "id": "rS1wwrdnOeV8"
      },
      "source": [
        "Now we know how neural networks predict, but how do they actually train? It is a rather complicated topic so we won't go into the details, but basically it calibrates the weights and biases progressively to optimize a certain loss function, usually MSE. To do so, it computes the gradient of the loss as a function of the weights (and biases), to find what is the direction with a steepest descent, and taking a step in that direction. The size of the step is what we call the learning rate. If we do that for a few iterations, we hope to reach the values of the weights that minimize the loss.\n",
        "\n",
        "We can see how the loss evolved for each iteration with the following plot.\n",
        "\n"
      ]
    },
    {
      "cell_type": "code",
      "execution_count": 9,
      "metadata": {
        "colab": {
          "base_uri": "https://localhost:8080/",
          "height": 472
        },
        "id": "xqMXRuIJ_eah",
        "outputId": "7ced6e18-9cd0-431e-bfaa-54047bf9831b"
      },
      "outputs": [
        {
          "data": {
            "image/png": "[encoded data removed]",
            "text/plain": [
              "<Figure size 640x480 with 1 Axes>"
            ]
          },
          "metadata": {},
          "output_type": "display_data"
        }
      ],
      "source": [
        "# Plot the loss at each iteration\n",
        "plt.plot(model.loss_curve_)\n",
        "plt.title('Loss Improvement')\n",
        "plt.xlabel('Iteration')\n",
        "plt.ylabel('Loss')\n",
        "plt.show()"
      ]
    },
    {
      "cell_type": "markdown",
      "metadata": {
        "id": "-RiHGH9EOeV8"
      },
      "source": [
        "So, at each iteration, the model goes through all of the training data and, through backpropagation of the loss, the optimizer (in our case, Adam) changes the weights of our network to slowly improve the model accuracy. If the line becomes horizontal, it means that our model is no longer learning anything.\n",
        "\n",
        "If you are interested about learning more about how neural networks train, I recommend you watch the Chapters 2, 3 and 4 of the following Youtube series by 3Blue1Brown:\n",
        "\n",
        "https://youtube.com/playlist?list=PLZHQObOWTQDNU6R1_67000Dx_ZCJB-3pi&si=GhO5UD2aHo97jKDG"
      ]
    },
    {
      "cell_type": "markdown",
      "metadata": {
        "id": "KMSMHSaY_e5O"
      },
      "source": [
        "## 3.3 The power of deep learning - tuning our NN"
      ]
    },
    {
      "cell_type": "markdown",
      "metadata": {
        "id": "PJwrTSVVOeV9"
      },
      "source": [
        "Let us now use the full data and train a fully fledged neural network, in order to unleash the power of deep learning. To start, we will widen our hidden layer to 1000 neurons. Because it is a fully connected neural network, we have a connection from each of the neurons in the previous layer to each of the neurons in the next, resulting in many more connections than one might expect. Let's quickly compute to how many trainable parameters that amounts."
      ]
    },
    {
      "cell_type": "code",
      "execution_count": 10,
      "metadata": {
        "colab": {
          "base_uri": "https://localhost:8080/"
        },
        "id": "tSAtnrmJ_g-8",
        "outputId": "7bc07288-05dd-41fe-9a30-f4adc8084361"
      },
      "outputs": [
        {
          "name": "stdout",
          "output_type": "stream",
          "text": [
            "Number of trainable parameters: 7001\n"
          ]
        }
      ],
      "source": [
        "# Fit a wide model\n",
        "model_wide = MLPRegressor(hidden_layer_sizes=(1000), activation='relu', max_iter=1000, random_state=10)\n",
        "model_wide.fit(X_train.values, y_train.values.ravel())\n",
        "\n",
        "# Print the number of trainable parameters\n",
        "n_params = sum([w.size for w in model_wide.coefs_] + [b.size for b in model_wide.intercepts_])\n",
        "print(\"Number of trainable parameters:\", n_params)"
      ]
    },
    {
      "cell_type": "markdown",
      "metadata": {
        "id": "9FzFaFHHOeV9"
      },
      "source": [
        "That is already much more than the 13 before. But that is not really *deep*. To do that, we need to add more hidden layers. To make the models comparable, however, we reduce the number of units per layer, ending up with 5 layers of 50 units each."
      ]
    },
    {
      "cell_type": "code",
      "execution_count": 11,
      "metadata": {
        "colab": {
          "base_uri": "https://localhost:8080/"
        },
        "id": "p7VeOlfvOeV9",
        "outputId": "c7976a58-d75b-4a05-842d-d112865230b5"
      },
      "outputs": [
        {
          "name": "stdout",
          "output_type": "stream",
          "text": [
            "Number of trainable parameters: 10551\n"
          ]
        }
      ],
      "source": [
        "# Fit a deep model\n",
        "model_deep = MLPRegressor(hidden_layer_sizes=(50, 50, 50, 50, 50), activation='relu', max_iter=1000, random_state=10)\n",
        "model_deep.fit(X_train.values, y_train.values.ravel())\n",
        "\n",
        "# Print the number of trainable parameters\n",
        "n_params = sum([w.size for w in model_deep.coefs_] + [b.size for b in model_deep.intercepts_])\n",
        "print(\"Number of trainable parameters:\", n_params)"
      ]
    },
    {
      "cell_type": "markdown",
      "metadata": {
        "id": "wmKXSNibOeV9"
      },
      "source": [
        "Perfect, now let's compare how the two are able to learn from the training data. We will also add the small network from before to see how much we have improved."
      ]
    },
    {
      "cell_type": "code",
      "execution_count": 15,
      "metadata": {
        "colab": {
          "base_uri": "https://localhost:8080/",
          "height": 504
        },
        "id": "oF6zGTYXOeV-",
        "outputId": "a9d64336-5bf0-4d60-ee5c-4f75cde0da97"
      },
      "outputs": [
        {
          "name": "stdout",
          "output_type": "stream",
          "text": [
            "Small model RMSE: 97.1327118560588\n",
            "Wide model RMSE: 33.83364314537003\n",
            "Deep model RMSE: 23.473595242457076\n"
          ]
        },
        {
          "data": {
            "image/png": "[encoded data removed]",
            "text/plain": [
              "<Figure size 1000x500 with 1 Axes>"
            ]
          },
          "metadata": {},
          "output_type": "display_data"
        }
      ],
      "source": [
        "# Predict the first 200 training values\n",
        "y_pred_small = model.predict(X_train.values[:200, -2:])\n",
        "y_pred_wide = model_wide.predict(X_train.values[:200])\n",
        "y_pred_deep = model_deep.predict(X_train.values[:200])\n",
        "\n",
        "# Print the RMSE for each model\n",
        "from sklearn.metrics import mean_squared_error\n",
        "\n",
        "rmse_small = mean_squared_error(y_train.values[:200], y_pred_small, squared=False)\n",
        "rmse_wide = mean_squared_error(y_train.values[:200], y_pred_wide, squared=False)\n",
        "rmse_deep = mean_squared_error(y_train.values[:200], y_pred_deep, squared=False)\n",
        "\n",
        "print(\"Small model RMSE:\", rmse_small)\n",
        "print(\"Wide model RMSE:\", rmse_wide)\n",
        "print(\"Deep model RMSE:\", rmse_deep)\n",
        "\n",
        "# Plot the predictions\n",
        "plt.figure(figsize=(10, 5))\n",
        "plt.plot(y_train.values[:200], label='True values')\n",
        "plt.plot(y_pred_small, label='Small model predictions')\n",
        "plt.plot(y_pred_wide, label='Wide model predictions')\n",
        "plt.plot(y_pred_deep, label='Deep model predictions')\n",
        "plt.legend()\n",
        "plt.title('Model Predictions')\n",
        "plt.xlabel('Time')\n",
        "plt.ylabel('Water Level (output)')\n",
        "plt.show()"
      ]
    },
    {
      "cell_type": "markdown",
      "metadata": {
        "id": "gkmPKsSBOeV-"
      },
      "source": [
        "It is quite clear that we have come a long way since our small model. Between the other two though, the differences are more subtle.\n",
        "\n",
        "In general, deeper models are able to learn more complex patterns, as each layers adds a level of abstractions to the concepts in can capture. However, it is important to remember that a single layer neural network with arbitrary number of units is enough to capture any function, that is why we call them universal approximators.\n",
        "\n",
        "To visually see how the changes in the network structure affect its predictions, you can do that in a fun and interactive way through the Neural Neural Playground, provided by Tensorflow:\n",
        "\n",
        "http://playground.tensorflow.org/"
      ]
    },
    {
      "cell_type": "markdown",
      "metadata": {
        "id": "9d8OrYFh_kLX"
      },
      "source": [
        "### Effect of most important hyperparameters."
      ]
    },
    {
      "cell_type": "markdown",
      "metadata": {
        "id": "qQhK_CtvOeV-"
      },
      "source": [
        "The structure of the neural network, which we have changed before, is also a hyperparameter, but neural networks have many more of those. As we know, changing those can have quite a big impact on the model's performance an computational impact. To simplify the process of finding the right hyperparameters, we have compiled a table explaining what you should aim for in each of them."
      ]
    },
    {
      "cell_type": "markdown",
      "metadata": {
        "id": "rruk-DWaOeV-"
      },
      "source": [
        "| Category             | Hyperparameter       | Description                                         | Default Value         | Tuning Advice                                 | Example Tuning Range                                   |\n",
        "|----------------------|----------------------|-----------------------------------------------------|-----------------------|-----------------------------------------------|----------------------------------------------------------|\n",
        "| Network Architecture | `number_of_layers`   | Number of hidden layers in the network.             | `1`                   | Increase for more complex problems, but beware of overfitting. | 1 to 10.                         |\n",
        "|                      | `neurons_per_layer`  | Number of neurons in each hidden layer.             | `32`                  | Adjust based on problem complexity and dataset size. | 10 to 1000.                     |\n",
        "|                      | `activation_function`| The function used to get the output of a node.      | `relu`                | Choose based on problem type and complexity. | `relu`, `sigmoid`, `tanh`, `softmax`.                    |\n",
        "| Training             | `learning_rate`      | Step size at each iteration while moving toward a minimum of a loss function. | `0.01`               | Decrease if training process is unstable, increase if training is slow. | 0.0001 to 1.0.                                           |\n",
        "|                      | `epochs`             | Number of complete passes through the training dataset. | `10`                  | Increase until no further improvement. | 10 to 1000.                     |\n",
        "|                      | `optimizer`          | The algorithm used to change the attributes of the neural network such as weights and learning rate in order to reduce the losses. | `adam` | Choose based on problem type and complexity. | `adam`, `sgd`, `rmsprop`, `adagrad`.                     |"
      ]
    },
    {
      "cell_type": "markdown",
      "metadata": {
        "id": "PA6eiA6mPFKz"
      },
      "source": [
        "## 3.4 Final remarks"
      ]
    },
    {
      "cell_type": "markdown",
      "metadata": {
        "id": "mU_Cf4qDPYCI"
      },
      "source": [
        "Well, we have learnt a lot about Neural Networks in this workshop. Now it is time for you to practice a bit more with them. For example, you could try to tune one of the other hyperparameters in the table, and see its effect in the training loss and predictions. Feel free to copy-paste code from the previous chapters!"
      ]
    },
    {
      "cell_type": "code",
      "execution_count": null,
      "metadata": {
        "id": "L_HFbDZLPYtZ"
      },
      "outputs": [],
      "source": [
        "# Set hyperparameter values to tune\n",
        "\n",
        "\n",
        "# Train a model for each of these values\n",
        "\n"
      ]
    },
    {
      "cell_type": "code",
      "execution_count": null,
      "metadata": {
        "id": "Zo_viNinPgXu"
      },
      "outputs": [],
      "source": [
        "# Plot the training curves for the models"
      ]
    },
    {
      "cell_type": "code",
      "execution_count": null,
      "metadata": {
        "id": "RZrSqYqgPlUV"
      },
      "outputs": [],
      "source": [
        "# Plot the predictions of the stored models on the test data\n"
      ]
    }
  ],
  "metadata": {
    "colab": {
      "include_colab_link": true,
      "provenance": []
    },
    "kernelspec": {
      "display_name": "Python 3",
      "name": "python3"
    },
    "language_info": {
      "codemirror_mode": {
        "name": "ipython",
        "version": 3
      },
      "file_extension": ".py",
      "mimetype": "text/x-python",
      "name": "python",
      "nbconvert_exporter": "python",
      "pygments_lexer": "ipython3",
      "version": "3.10.8"
    }
  },
  "nbformat": 4,
  "nbformat_minor": 0
}
