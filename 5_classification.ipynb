{
 "cells": [
  {
   "cell_type": "markdown",
   "id": "4b26640c-6bd6-4fb0-9144-d3e0dc56fdb2",
   "metadata": {},
   "source": [
    "## 5. Understanding Classification Problems"
   ]
  },
  {
   "cell_type": "markdown",
   "id": "5094522e-2280-4431-8976-fa97fb2ab366",
   "metadata": {},
   "source": [
    "In previous workshops, we focused on regression problems, learning how to predict continuous variables using methods like Random Forest and Neural Networks. Today, we will work on a different type of problem: **classification**. Specifically, we will use machine learning to predict a **sediment categorical characteristic**, based on its **location** and some **physical characteristics**.\n",
    "\n",
    "Our dataset comes from the Geological Survey of the Netherlands and contains descriptions of sediments from the North Sea. Today, we will use a small, pre-processed subset of the dataset, but you can download the full dataset (and many other geological datasets!) at  [DINOloket](https://www.dinoloket.nl/en/subsurface-data). \n"
   ]
  },
  {
   "cell_type": "markdown",
   "id": "cfe0ced0-c747-4883-a1d1-64efaee74030",
   "metadata": {},
   "source": [
    "![DINOloket](images/5_DINOloket.png)"
   ]
  },
  {
   "cell_type": "markdown",
   "id": "91ad673f-642b-41e5-bf00-5ee861f47897",
   "metadata": {},
   "source": [
    "## 5.1 Problem Definition\n",
    "\n",
    "In this workshop, we will use a dataset containing sample descriptions of sediments from the North Sea. When a sample is collected, the Geological Survey of the Netherlands (GDN as denoted in Dutch) follows a standard method to describe the sediment. Using this \"Standard Drill Description Method\" ([Standaard Boor Beschrijvingsmethode](https://www.grondwatertools.nl/sites/default/files/GDN_SBB-NITG-00-141-A-(3)_20161111.pdf)) the GDN aims to systematically capture multiple characteristics of the collected samples. This method does not only apply to marine sediments, but to any sample that is described by the GDN. Of course, some characteristics only apply to certain types of samples. \n",
    "\n",
    "While some of these descriptions can be made quickly, others require laboratory analysis, which is more time-consuming and resource-intensive. Today, we will try to predict one of the time-consuming measurements (i.e. **Medium sand size category**) based on **location** and some easy-to-describe **sediment properties**.\n",
    "\n",
    "The **Medium sand size category** corresponds to **7** different categories in our dataset based on the size sand size of the sample. This measurement only applies to samples described as sand and those that have a representative portion of sand admixture. \n",
    "\n",
    "| Class            | Sand Median (µm)     | Code  |\n",
    "|-------------------|----------------------|-------|\n",
    "| Extremely fine    | 63 ≤ x < 105           | ZUF   |\n",
    "| Very fine         | 105 ≤ x < 150          | ZZF   |\n",
    "| Moderately fine   | 150  ≤ x < 210          | ZMF   |\n",
    "| Moderately coarse | 210 ≤ x < 300          | ZMG   |\n",
    "| Very coarse       | 300 ≤ x < 420          | ZZG   |\n",
    "| Extremely coarse  | 420  ≤ x< 2000         | ZUG   |\n",
    "\n",
    "**Other categories (ABM = NEN209 and ONB)**:\n",
    "\n",
    "- Coarse category: 210 - < 2000 µm (ZGC)\n",
    "\n",
    "\n",
    "Below are the predictor variables and the target variable for this exercise. Note that the sediment properties (e.g., color, calcareous portion) are also classified according to the categories in the 'Standard Drill Description Method'. If you want more details about these features, refer to the [document](https://www.grondwatertools.nl/sites/default/files/GDN_SBB-NITG-00-141-A-(3)_20161111.pdf) (information in Dutch).\n"
   ]
  },
  {
   "cell_type": "markdown",
   "id": "0df14f73-2401-44ee-b423-804ff6e691c1",
   "metadata": {},
   "source": [
    "| Feature Name (English)       | Feature Name (Dutch)              | Explanation                                | Reference (Page) |\n",
    "|-------------------------------|------------------------------------|--------------------------------------------|------------------|\n",
    "| Sample ID                    | NITG.nr                           | Sample ID                                 |                  |\n",
    "| X coordinate                 | X.coordinaat                      | X coordinate (CRS:28892)                  |                  |\n",
    "| Y coordinate                 | Y.coordinaat                      | Y coordinate (CRS:28892)                  |                  |\n",
    "| Height with respect to NAP   | Maaiveldhoogte..m.tov.NAP         | Z coordinate (depth)                      |                  |\n",
    "| Color                        | Kleur                             | Color based [SBB format L4]               | 47               |\n",
    "| Calcareous portion           | Kalkgehalte                       | Calcareous content [SBB format L14]       | 75               |\n",
    "| Main soil type               | Hoofdgrondsoort                   | Main soil type based [SBB format L3.1]    | 35               |\n",
    "| Organic portion              | Organische Stof                   | Organic portion [SBB format: L9]          | 65               |\n",
    "| Sand median class            | Zandmediaanklasse                 | Sand median [SBB format: L7.2.1]          | 52               |\n"
   ]
  }
 ],
 "metadata": {
  "kernelspec": {
   "display_name": "Python 3 (ipykernel)",
   "language": "python",
   "name": "python3"
  },
  "language_info": {
   "codemirror_mode": {
    "name": "ipython",
    "version": 3
   },
   "file_extension": ".py",
   "mimetype": "text/x-python",
   "name": "python",
   "nbconvert_exporter": "python",
   "pygments_lexer": "ipython3",
   "version": "3.12.7"
  }
 },
 "nbformat": 4,
 "nbformat_minor": 5
}
